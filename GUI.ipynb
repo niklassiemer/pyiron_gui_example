{
 "cells": [
  {
   "cell_type": "markdown",
   "id": "a875162e",
   "metadata": {},
   "source": [
    "# pyiron: Graphical User Interface Example \n",
    "\n",
    "Niklas Siemer (https://github.com/niklassiemer)"
   ]
  },
  {
   "cell_type": "code",
   "execution_count": null,
   "id": "5975c4ca",
   "metadata": {},
   "outputs": [],
   "source": [
    "%matplotlib notebook"
   ]
  },
  {
   "cell_type": "code",
   "execution_count": null,
   "id": "1e56ce83",
   "metadata": {},
   "outputs": [],
   "source": [
    "from pyiron_atomistics import Project\n",
    "from pyiron_gui import activate_gui"
   ]
  },
  {
   "cell_type": "markdown",
   "id": "c9034494",
   "metadata": {},
   "source": [
    "## Feature Project Browser"
   ]
  },
  {
   "cell_type": "code",
   "execution_count": null,
   "id": "5e44e67e",
   "metadata": {},
   "outputs": [],
   "source": [
    "pr =  Project('projects')"
   ]
  },
  {
   "cell_type": "code",
   "execution_count": null,
   "id": "517d2459",
   "metadata": {},
   "outputs": [],
   "source": [
    "pr = activate_gui(pr)"
   ]
  },
  {
   "cell_type": "code",
   "execution_count": null,
   "id": "5f4c2ca0",
   "metadata": {},
   "outputs": [],
   "source": [
    "atom_sim_pr = pr['Atomistic_Simulation']"
   ]
  },
  {
   "cell_type": "code",
   "execution_count": null,
   "id": "4b4ce6c2",
   "metadata": {},
   "outputs": [],
   "source": [
    "atom_sim_pr.unpack('packed_murn',csv_file_name='export.csv')"
   ]
  },
  {
   "cell_type": "code",
   "execution_count": null,
   "id": "743ebc3d",
   "metadata": {},
   "outputs": [],
   "source": [
    "pr.browser.show_files=True\n",
    "pr.browser"
   ]
  },
  {
   "cell_type": "markdown",
   "id": "c0c02ebc",
   "metadata": {},
   "source": [
    "## Feature Line Profiles"
   ]
  },
  {
   "cell_type": "code",
   "execution_count": null,
   "id": "1dc5d821",
   "metadata": {},
   "outputs": [],
   "source": [
    "from pyiron_experimental.tem_analysis import LineProfiles\n",
    "\n",
    "import hyperspy.api as hs\n",
    "\n",
    "import numpy as np\n",
    "import matplotlib.pyplot as plt\n",
    "import os"
   ]
  },
  {
   "cell_type": "code",
   "execution_count": null,
   "id": "b8d41eda",
   "metadata": {},
   "outputs": [],
   "source": [
    "plt.ion()"
   ]
  },
  {
   "cell_type": "code",
   "execution_count": null,
   "id": "cb92ab0c",
   "metadata": {},
   "outputs": [],
   "source": [
    "tem_pr = pr['TEM']"
   ]
  },
  {
   "cell_type": "code",
   "execution_count": null,
   "id": "787cadfd",
   "metadata": {},
   "outputs": [],
   "source": [
    "img_pr.list_all()"
   ]
  },
  {
   "cell_type": "markdown",
   "id": "9139bf03",
   "metadata": {},
   "source": [
    "Load the TEM experiment data via hyperspy:"
   ]
  },
  {
   "cell_type": "code",
   "execution_count": null,
   "id": "79403b3b",
   "metadata": {},
   "outputs": [],
   "source": [
    "data = hs.load(os.path.join(tem_pr.path, 'experiment.emd'))"
   ]
  },
  {
   "cell_type": "code",
   "execution_count": null,
   "id": "122d8698",
   "metadata": {},
   "outputs": [],
   "source": [
    "data"
   ]
  },
  {
   "cell_type": "markdown",
   "id": "4cd08f6a",
   "metadata": {},
   "source": [
    "Initiate `LineProfiles` with the Signal stream of interest."
   ]
  },
  {
   "cell_type": "code",
   "execution_count": null,
   "id": "6736fa6f",
   "metadata": {},
   "outputs": [],
   "source": [
    "lp = LineProfiles(emd_signal=data[0])"
   ]
  },
  {
   "cell_type": "markdown",
   "id": "6b0bb612",
   "metadata": {},
   "source": [
    "Plot the signal - this Figure will be used to select the Line(s) of interest."
   ]
  },
  {
   "cell_type": "code",
   "execution_count": null,
   "id": "2215b528",
   "metadata": {},
   "outputs": [],
   "source": [
    "lp.plot_signal()"
   ]
  },
  {
   "cell_type": "markdown",
   "id": "d64c8839",
   "metadata": {},
   "source": [
    "Add a line of which the line profile should be determined: Call the method and click and drag a line on the signal. Afterwards, the lines can be changed by click and drag on the handles, Furthermore, the line may be redrawn by clicking and draging apart from the handles."
   ]
  },
  {
   "cell_type": "code",
   "execution_count": null,
   "id": "daef756e",
   "metadata": {},
   "outputs": [],
   "source": [
    "lp.add_line()"
   ]
  },
  {
   "cell_type": "markdown",
   "id": "530b82aa",
   "metadata": {},
   "source": [
    "You may add as many lines as you want and the appearance may be changed as needed:"
   ]
  },
  {
   "cell_type": "code",
   "execution_count": null,
   "id": "46a838df",
   "metadata": {},
   "outputs": [],
   "source": [
    "lp.add_line(line_properties={\"color\": \"gray\"})"
   ]
  },
  {
   "cell_type": "markdown",
   "id": "636a7e09",
   "metadata": {},
   "source": [
    " The last added line is the only one being responsive. To change a different line use `lp.active_line` and set it to the line of interest (numbered in order of adding)"
   ]
  },
  {
   "cell_type": "code",
   "execution_count": null,
   "id": "a121c69c",
   "metadata": {},
   "outputs": [],
   "source": [
    "lp.active_line = 0"
   ]
  },
  {
   "cell_type": "markdown",
   "id": "8d2498b0",
   "metadata": {},
   "source": [
    "The linewidth option `lw` is treated specially, since this is used to average the line profile over the thickness."
   ]
  },
  {
   "cell_type": "code",
   "execution_count": null,
   "id": "aa012256",
   "metadata": {},
   "outputs": [],
   "source": [
    "lp.add_line(lw=10)"
   ]
  },
  {
   "cell_type": "markdown",
   "id": "16a2ac1e",
   "metadata": {},
   "source": [
    "Finally, all lines choosen may be plotted via `plot_line_profiles()` where the line properties of are retained."
   ]
  },
  {
   "cell_type": "code",
   "execution_count": null,
   "id": "154041c5",
   "metadata": {},
   "outputs": [],
   "source": [
    "lp.plot_line_profiles()"
   ]
  },
  {
   "cell_type": "code",
   "execution_count": null,
   "id": "30295d68",
   "metadata": {},
   "outputs": [],
   "source": []
  }
 ],
 "metadata": {
  "kernelspec": {
   "display_name": "Python 3",
   "language": "python",
   "name": "python3"
  },
  "language_info": {
   "codemirror_mode": {
    "name": "ipython",
    "version": 3
   },
   "file_extension": ".py",
   "mimetype": "text/x-python",
   "name": "python",
   "nbconvert_exporter": "python",
   "pygments_lexer": "ipython3",
   "version": "3.8.5"
  }
 },
 "nbformat": 4,
 "nbformat_minor": 5
}
